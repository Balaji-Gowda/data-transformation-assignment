{
  "nbformat": 4,
  "nbformat_minor": 0,
  "metadata": {
    "colab": {
      "provenance": []
    },
    "kernelspec": {
      "name": "python3",
      "display_name": "Python 3"
    },
    "language_info": {
      "name": "python"
    }
  },
  "cells": [
    {
      "cell_type": "code",
      "execution_count": 1,
      "metadata": {
        "id": "6q5n9hB8LPR7"
      },
      "outputs": [],
      "source": [
        "import duckdb\n",
        "import pandas as pd"
      ]
    },
    {
      "cell_type": "code",
      "source": [
        "con = duckdb.connect()"
      ],
      "metadata": {
        "id": "6hTQgTrTMQWl"
      },
      "execution_count": 2,
      "outputs": []
    },
    {
      "cell_type": "code",
      "source": [
        "#Import two tables as SQL tables using any SQL-related Python library.\n",
        "con.execute(\"\"\"\n",
        "CREATE TABLE products_day1 AS\n",
        "SELECT * FROM read_csv_auto('products_day1.csv', header=True);\n",
        "\"\"\")\n",
        "\n",
        "con.execute(\"\"\"\n",
        "CREATE TABLE products_day2 AS\n",
        "SELECT * FROM read_csv_auto('products_day2.csv', header=True);\n",
        "\"\"\")\n",
        "\n",
        "# Optional: Check one of the tables\n",
        "print(con.execute(\"SELECT * FROM products_day1\").fetchdf())"
      ],
      "metadata": {
        "colab": {
          "base_uri": "https://localhost:8080/"
        },
        "id": "Hf5mZayeTDlt",
        "outputId": "257b0916-9754-4b02-baf0-2d11bfff0010"
      },
      "execution_count": 3,
      "outputs": [
        {
          "output_type": "stream",
          "name": "stdout",
          "text": [
            "   product_id               name     category  price  stock\n",
            "0         101     Wireless Mouse  Electronics  25.99    120\n",
            "1         102       Water Bottle      Kitchen  10.50    200\n",
            "2         103  Bluetooth Speaker  Electronics  49.99     75\n",
            "3         104           Yoga Mat      Fitness  20.00     60\n",
            "4         105          Desk Lamp    Furniture  35.00     90\n",
            "5         106           Notebook   Stationery   2.99    300\n"
          ]
        }
      ]
    },
    {
      "cell_type": "markdown",
      "source": [
        "-------------------------------------------------------------------------------\n",
        "-------------------------------------------------------------------------------"
      ],
      "metadata": {
        "id": "mgNuG4VKmu7T"
      }
    },
    {
      "cell_type": "markdown",
      "source": [
        "#Part 1"
      ],
      "metadata": {
        "id": "NxtNpLvenuxA"
      }
    },
    {
      "cell_type": "markdown",
      "source": [
        "##Solution 1 for Part 1, Task 1(Identify full rows that were ADDED or REMOVED) based on all columns check"
      ],
      "metadata": {
        "id": "ahV_0o_FmTGh"
      }
    },
    {
      "cell_type": "code",
      "source": [
        "added_removed_query = \"\"\"\n",
        "      -- Truly removed rows\n",
        "          SELECT d1.*, 'REMOVED' AS change_type\n",
        "          FROM products_day1 d1\n",
        "          WHERE NOT EXISTS (\n",
        "              SELECT 1 FROM products_day2 d2\n",
        "              WHERE d1.name = d2.name\n",
        "                AND d1.category = d2.category\n",
        "                AND d1.price = d2.price\n",
        "                AND d1.stock = d2.stock\n",
        "          )\n",
        "          AND d1.product_id NOT IN (\n",
        "              SELECT d1a.product_id\n",
        "              FROM products_day1 d1a\n",
        "              JOIN products_day2 d2a ON d1a.product_id = d2a.product_id\n",
        "          )\n",
        "\n",
        "          UNION ALL\n",
        "\n",
        "      -- Truly added rows\n",
        "          SELECT d2.*, 'ADDED' AS change_type\n",
        "          FROM products_day2 d2\n",
        "          WHERE NOT EXISTS (\n",
        "              SELECT 1 FROM products_day1 d1\n",
        "              WHERE d1.name = d2.name\n",
        "                AND d1.category = d2.category\n",
        "                AND d1.price = d2.price\n",
        "                AND d1.stock = d2.stock\n",
        "          )\n",
        "          AND d2.product_id NOT IN (\n",
        "              SELECT d2a.product_id\n",
        "              FROM products_day2 d2a\n",
        "              JOIN products_day1 d1a ON d2a.product_id = d1a.product_id\n",
        "          );\n",
        "\"\"\"\n",
        "added_removed_df = con.execute(added_removed_query).df()\n",
        "print(added_removed_df)"
      ],
      "metadata": {
        "colab": {
          "base_uri": "https://localhost:8080/"
        },
        "id": "QBYfGx2Lkx_K",
        "outputId": "70e95e35-71d8-42b8-d6a9-02963b1ad93b"
      },
      "execution_count": 4,
      "outputs": [
        {
          "output_type": "stream",
          "name": "stdout",
          "text": [
            "   product_id         name    category  price  stock change_type\n",
            "0         106     Notebook  Stationery   2.99    300     REMOVED\n",
            "1         107  Smart Watch   Wearables  99.00     50       ADDED\n"
          ]
        }
      ]
    },
    {
      "cell_type": "markdown",
      "source": [
        " -------------------------------------------------------------------------------"
      ],
      "metadata": {
        "id": "LewXcro3m7aq"
      }
    },
    {
      "cell_type": "markdown",
      "source": [
        "##Solution 2 for Part 1, Task 1(Identify full rows that were ADDED or REMOVED) based on product_id check alone"
      ],
      "metadata": {
        "id": "rigtYsrem8Xb"
      }
    },
    {
      "cell_type": "code",
      "source": [
        "added_removed_query = \"\"\"\n",
        "      with modified_rows as(\n",
        "          (SELECT product_id, 'REMOVED' AS change_type FROM products_day1\n",
        "          EXCEPT\n",
        "          SELECT product_id, 'REMOVED' AS change_type FROM products_day2)\n",
        "\n",
        "          UNION ALL\n",
        "\n",
        "          (SELECT product_id, 'ADDED' AS change_type FROM products_day2\n",
        "          EXCEPT\n",
        "          SELECT product_id, 'ADDED' AS change_type FROM products_day1)\n",
        "      )\n",
        "      select b.*,change_type from modified_rows a\n",
        "      join products_day1 b\n",
        "      on a.product_id = b.product_id\n",
        "\n",
        "      union all\n",
        "\n",
        "      select b.*,change_type from modified_rows a\n",
        "      join products_day2 b\n",
        "      on a.product_id = b.product_id\n",
        "\"\"\"\n",
        "added_removed_df = con.execute(added_removed_query).df()\n",
        "print(added_removed_df)"
      ],
      "metadata": {
        "colab": {
          "base_uri": "https://localhost:8080/"
        },
        "id": "CIUrKhwjUdLZ",
        "outputId": "a4dc7110-69f9-43f6-d62f-e79a04bd9b78"
      },
      "execution_count": 5,
      "outputs": [
        {
          "output_type": "stream",
          "name": "stdout",
          "text": [
            "   product_id         name    category  price  stock change_type\n",
            "0         106     Notebook  Stationery   2.99    300     REMOVED\n",
            "1         107  Smart Watch   Wearables  99.00     50       ADDED\n"
          ]
        }
      ]
    },
    {
      "cell_type": "markdown",
      "source": [
        "###Alternative way for above solution 2"
      ],
      "metadata": {
        "id": "7gK_zeh3nXBM"
      }
    },
    {
      "cell_type": "code",
      "source": [
        "added_removed_query = \"\"\"\n",
        "      with modified_rows as(\n",
        "          --change_type = REMOVED\n",
        "          (SELECT product_id  FROM products_day1\n",
        "          EXCEPT\n",
        "          SELECT product_id FROM products_day2)\n",
        "\n",
        "          UNION ALL\n",
        "          -- change_type = 'ADDED'\n",
        "          (SELECT product_id FROM products_day2\n",
        "          EXCEPT\n",
        "          SELECT product_id FROM products_day1)\n",
        "      )\n",
        "      select\n",
        "      *,'REMOVED' as change_type from products_day1\n",
        "      where product_id in (select product_id from modified_rows )\n",
        "\n",
        "      union all\n",
        "\n",
        "      select\n",
        "      *,'ADDED' as change_type from products_day2\n",
        "      where product_id in (select product_id from modified_rows)\n",
        "      order by 1\n",
        "\"\"\"\n",
        "added_removed_df = con.execute(added_removed_query).df()\n",
        "print(added_removed_df)"
      ],
      "metadata": {
        "colab": {
          "base_uri": "https://localhost:8080/"
        },
        "id": "f434Gi3oUhkT",
        "outputId": "cc2668f3-9b5f-402e-ae4b-27320d10883b"
      },
      "execution_count": 6,
      "outputs": [
        {
          "output_type": "stream",
          "name": "stdout",
          "text": [
            "   product_id         name    category  price  stock change_type\n",
            "0         106     Notebook  Stationery   2.99    300     REMOVED\n",
            "1         107  Smart Watch   Wearables  99.00     50       ADDED\n"
          ]
        }
      ]
    },
    {
      "cell_type": "code",
      "source": [
        "#Loading resulted output into csv file\n",
        "added_removed_df.to_csv('Added_removed_rows.csv', index=False)"
      ],
      "metadata": {
        "id": "kEj4JBjEp4pR"
      },
      "execution_count": 7,
      "outputs": []
    },
    {
      "cell_type": "markdown",
      "source": [],
      "metadata": {
        "id": "uy_r1aLuU2VK"
      }
    },
    {
      "cell_type": "markdown",
      "source": [
        "-------------------------------------------------------------------------------\n",
        "-------------------------------------------------------------------------------"
      ],
      "metadata": {
        "id": "0VbfhXnFn46S"
      }
    },
    {
      "cell_type": "markdown",
      "source": [
        "#Part 2"
      ],
      "metadata": {
        "id": "rHBktjiWoDCx"
      }
    },
    {
      "cell_type": "code",
      "source": [
        "#Collecting all the list of columns to cehck for here I have taken all columns excluding the Product_Id, which we use for row match check and can be treated as don't change entity\n",
        "\n",
        "column_query = \"\"\"\n",
        "SELECT column_name\n",
        "FROM information_schema.columns\n",
        "WHERE table_name = 'products_day1'\n",
        "  AND column_name != 'product_id'\n",
        "ORDER BY ordinal_position\n",
        "\"\"\"\n",
        "\n",
        "columns = [row[0] for row in con.execute(column_query).fetchall()]\n",
        "\n",
        "print(columns)\n"
      ],
      "metadata": {
        "id": "VozMCZ9AN6lY",
        "colab": {
          "base_uri": "https://localhost:8080/"
        },
        "outputId": "7ecb5b79-b5ed-4ddb-cfd3-d569e79767c0"
      },
      "execution_count": 8,
      "outputs": [
        {
          "output_type": "stream",
          "name": "stdout",
          "text": [
            "['name', 'category', 'price', 'stock']\n"
          ]
        }
      ]
    },
    {
      "cell_type": "code",
      "source": [
        "# Prepare list to collect results\n",
        "diff_rows = []"
      ],
      "metadata": {
        "id": "q1SlpFCeN-6h"
      },
      "execution_count": 9,
      "outputs": []
    },
    {
      "cell_type": "code",
      "source": [
        "#Generating individual dataframes based on each column uniqueness check\n",
        "for col in columns:\n",
        "    query = f\"\"\"\n",
        "        SELECT\n",
        "            d1.product_id,\n",
        "            '{col}' AS column_changed,\n",
        "            CAST(d1.{col} AS TEXT) AS old_value,\n",
        "            CAST(d2.{col} AS TEXT) AS new_value\n",
        "        FROM products_day1 d1\n",
        "        JOIN products_day2 d2 ON d1.product_id = d2.product_id\n",
        "        WHERE d1.{col} IS DISTINCT FROM d2.{col}\n",
        "    \"\"\"\n",
        "    result = con.execute(query).fetchdf()\n",
        "    print(result)\n",
        "    diff_rows.append(result)"
      ],
      "metadata": {
        "id": "qnafA7wxOCim",
        "colab": {
          "base_uri": "https://localhost:8080/"
        },
        "outputId": "e631764b-9fe8-4881-b017-44a5486a2f2f"
      },
      "execution_count": 10,
      "outputs": [
        {
          "output_type": "stream",
          "name": "stdout",
          "text": [
            "Empty DataFrame\n",
            "Columns: [product_id, column_changed, old_value, new_value]\n",
            "Index: []\n",
            "Empty DataFrame\n",
            "Columns: [product_id, column_changed, old_value, new_value]\n",
            "Index: []\n",
            "   product_id column_changed old_value new_value\n",
            "0         101          price     25.99     23.99\n",
            "1         105          price      35.0      37.0\n",
            "   product_id column_changed old_value new_value\n",
            "0         102          stock       200       180\n"
          ]
        }
      ]
    },
    {
      "cell_type": "code",
      "source": [
        "#displaying the generated list of dataframes\n",
        "diff_rows"
      ],
      "metadata": {
        "colab": {
          "base_uri": "https://localhost:8080/"
        },
        "id": "N7XQOjkeT8ji",
        "outputId": "20d3a083-8354-4598-b40e-11bbf99f4e08"
      },
      "execution_count": 11,
      "outputs": [
        {
          "output_type": "execute_result",
          "data": {
            "text/plain": [
              "[Empty DataFrame\n",
              " Columns: [product_id, column_changed, old_value, new_value]\n",
              " Index: [],\n",
              " Empty DataFrame\n",
              " Columns: [product_id, column_changed, old_value, new_value]\n",
              " Index: [],\n",
              "    product_id column_changed old_value new_value\n",
              " 0         101          price     25.99     23.99\n",
              " 1         105          price      35.0      37.0,\n",
              "    product_id column_changed old_value new_value\n",
              " 0         102          stock       200       180]"
            ]
          },
          "metadata": {},
          "execution_count": 11
        }
      ]
    },
    {
      "cell_type": "code",
      "source": [
        "#Appending all the individual dataframes generated from our dynamic sql query ouput\n",
        "column_changes_df = pd.concat(diff_rows,ignore_index = True).sort_values(by='product_id')"
      ],
      "metadata": {
        "id": "L8kW9ujUOI9E"
      },
      "execution_count": 12,
      "outputs": []
    },
    {
      "cell_type": "code",
      "source": [
        "#displaying the results\n",
        "column_changes_df"
      ],
      "metadata": {
        "colab": {
          "base_uri": "https://localhost:8080/",
          "height": 143
        },
        "id": "SImnyf7gUMLr",
        "outputId": "c4befeba-362e-4560-c0f7-3396ca559aa7"
      },
      "execution_count": 13,
      "outputs": [
        {
          "output_type": "execute_result",
          "data": {
            "text/plain": [
              "   product_id column_changed old_value new_value\n",
              "0         101          price     25.99     23.99\n",
              "2         102          stock       200       180\n",
              "1         105          price      35.0      37.0"
            ],
            "text/html": [
              "\n",
              "  <div id=\"df-1dd557b6-6dbb-4d74-a10d-54b9c81ec141\" class=\"colab-df-container\">\n",
              "    <div>\n",
              "<style scoped>\n",
              "    .dataframe tbody tr th:only-of-type {\n",
              "        vertical-align: middle;\n",
              "    }\n",
              "\n",
              "    .dataframe tbody tr th {\n",
              "        vertical-align: top;\n",
              "    }\n",
              "\n",
              "    .dataframe thead th {\n",
              "        text-align: right;\n",
              "    }\n",
              "</style>\n",
              "<table border=\"1\" class=\"dataframe\">\n",
              "  <thead>\n",
              "    <tr style=\"text-align: right;\">\n",
              "      <th></th>\n",
              "      <th>product_id</th>\n",
              "      <th>column_changed</th>\n",
              "      <th>old_value</th>\n",
              "      <th>new_value</th>\n",
              "    </tr>\n",
              "  </thead>\n",
              "  <tbody>\n",
              "    <tr>\n",
              "      <th>0</th>\n",
              "      <td>101</td>\n",
              "      <td>price</td>\n",
              "      <td>25.99</td>\n",
              "      <td>23.99</td>\n",
              "    </tr>\n",
              "    <tr>\n",
              "      <th>2</th>\n",
              "      <td>102</td>\n",
              "      <td>stock</td>\n",
              "      <td>200</td>\n",
              "      <td>180</td>\n",
              "    </tr>\n",
              "    <tr>\n",
              "      <th>1</th>\n",
              "      <td>105</td>\n",
              "      <td>price</td>\n",
              "      <td>35.0</td>\n",
              "      <td>37.0</td>\n",
              "    </tr>\n",
              "  </tbody>\n",
              "</table>\n",
              "</div>\n",
              "    <div class=\"colab-df-buttons\">\n",
              "\n",
              "  <div class=\"colab-df-container\">\n",
              "    <button class=\"colab-df-convert\" onclick=\"convertToInteractive('df-1dd557b6-6dbb-4d74-a10d-54b9c81ec141')\"\n",
              "            title=\"Convert this dataframe to an interactive table.\"\n",
              "            style=\"display:none;\">\n",
              "\n",
              "  <svg xmlns=\"http://www.w3.org/2000/svg\" height=\"24px\" viewBox=\"0 -960 960 960\">\n",
              "    <path d=\"M120-120v-720h720v720H120Zm60-500h600v-160H180v160Zm220 220h160v-160H400v160Zm0 220h160v-160H400v160ZM180-400h160v-160H180v160Zm440 0h160v-160H620v160ZM180-180h160v-160H180v160Zm440 0h160v-160H620v160Z\"/>\n",
              "  </svg>\n",
              "    </button>\n",
              "\n",
              "  <style>\n",
              "    .colab-df-container {\n",
              "      display:flex;\n",
              "      gap: 12px;\n",
              "    }\n",
              "\n",
              "    .colab-df-convert {\n",
              "      background-color: #E8F0FE;\n",
              "      border: none;\n",
              "      border-radius: 50%;\n",
              "      cursor: pointer;\n",
              "      display: none;\n",
              "      fill: #1967D2;\n",
              "      height: 32px;\n",
              "      padding: 0 0 0 0;\n",
              "      width: 32px;\n",
              "    }\n",
              "\n",
              "    .colab-df-convert:hover {\n",
              "      background-color: #E2EBFA;\n",
              "      box-shadow: 0px 1px 2px rgba(60, 64, 67, 0.3), 0px 1px 3px 1px rgba(60, 64, 67, 0.15);\n",
              "      fill: #174EA6;\n",
              "    }\n",
              "\n",
              "    .colab-df-buttons div {\n",
              "      margin-bottom: 4px;\n",
              "    }\n",
              "\n",
              "    [theme=dark] .colab-df-convert {\n",
              "      background-color: #3B4455;\n",
              "      fill: #D2E3FC;\n",
              "    }\n",
              "\n",
              "    [theme=dark] .colab-df-convert:hover {\n",
              "      background-color: #434B5C;\n",
              "      box-shadow: 0px 1px 3px 1px rgba(0, 0, 0, 0.15);\n",
              "      filter: drop-shadow(0px 1px 2px rgba(0, 0, 0, 0.3));\n",
              "      fill: #FFFFFF;\n",
              "    }\n",
              "  </style>\n",
              "\n",
              "    <script>\n",
              "      const buttonEl =\n",
              "        document.querySelector('#df-1dd557b6-6dbb-4d74-a10d-54b9c81ec141 button.colab-df-convert');\n",
              "      buttonEl.style.display =\n",
              "        google.colab.kernel.accessAllowed ? 'block' : 'none';\n",
              "\n",
              "      async function convertToInteractive(key) {\n",
              "        const element = document.querySelector('#df-1dd557b6-6dbb-4d74-a10d-54b9c81ec141');\n",
              "        const dataTable =\n",
              "          await google.colab.kernel.invokeFunction('convertToInteractive',\n",
              "                                                    [key], {});\n",
              "        if (!dataTable) return;\n",
              "\n",
              "        const docLinkHtml = 'Like what you see? Visit the ' +\n",
              "          '<a target=\"_blank\" href=https://colab.research.google.com/notebooks/data_table.ipynb>data table notebook</a>'\n",
              "          + ' to learn more about interactive tables.';\n",
              "        element.innerHTML = '';\n",
              "        dataTable['output_type'] = 'display_data';\n",
              "        await google.colab.output.renderOutput(dataTable, element);\n",
              "        const docLink = document.createElement('div');\n",
              "        docLink.innerHTML = docLinkHtml;\n",
              "        element.appendChild(docLink);\n",
              "      }\n",
              "    </script>\n",
              "  </div>\n",
              "\n",
              "\n",
              "    <div id=\"df-68acd0ff-1915-49b1-9e8e-3613fc26cef1\">\n",
              "      <button class=\"colab-df-quickchart\" onclick=\"quickchart('df-68acd0ff-1915-49b1-9e8e-3613fc26cef1')\"\n",
              "                title=\"Suggest charts\"\n",
              "                style=\"display:none;\">\n",
              "\n",
              "<svg xmlns=\"http://www.w3.org/2000/svg\" height=\"24px\"viewBox=\"0 0 24 24\"\n",
              "     width=\"24px\">\n",
              "    <g>\n",
              "        <path d=\"M19 3H5c-1.1 0-2 .9-2 2v14c0 1.1.9 2 2 2h14c1.1 0 2-.9 2-2V5c0-1.1-.9-2-2-2zM9 17H7v-7h2v7zm4 0h-2V7h2v10zm4 0h-2v-4h2v4z\"/>\n",
              "    </g>\n",
              "</svg>\n",
              "      </button>\n",
              "\n",
              "<style>\n",
              "  .colab-df-quickchart {\n",
              "      --bg-color: #E8F0FE;\n",
              "      --fill-color: #1967D2;\n",
              "      --hover-bg-color: #E2EBFA;\n",
              "      --hover-fill-color: #174EA6;\n",
              "      --disabled-fill-color: #AAA;\n",
              "      --disabled-bg-color: #DDD;\n",
              "  }\n",
              "\n",
              "  [theme=dark] .colab-df-quickchart {\n",
              "      --bg-color: #3B4455;\n",
              "      --fill-color: #D2E3FC;\n",
              "      --hover-bg-color: #434B5C;\n",
              "      --hover-fill-color: #FFFFFF;\n",
              "      --disabled-bg-color: #3B4455;\n",
              "      --disabled-fill-color: #666;\n",
              "  }\n",
              "\n",
              "  .colab-df-quickchart {\n",
              "    background-color: var(--bg-color);\n",
              "    border: none;\n",
              "    border-radius: 50%;\n",
              "    cursor: pointer;\n",
              "    display: none;\n",
              "    fill: var(--fill-color);\n",
              "    height: 32px;\n",
              "    padding: 0;\n",
              "    width: 32px;\n",
              "  }\n",
              "\n",
              "  .colab-df-quickchart:hover {\n",
              "    background-color: var(--hover-bg-color);\n",
              "    box-shadow: 0 1px 2px rgba(60, 64, 67, 0.3), 0 1px 3px 1px rgba(60, 64, 67, 0.15);\n",
              "    fill: var(--button-hover-fill-color);\n",
              "  }\n",
              "\n",
              "  .colab-df-quickchart-complete:disabled,\n",
              "  .colab-df-quickchart-complete:disabled:hover {\n",
              "    background-color: var(--disabled-bg-color);\n",
              "    fill: var(--disabled-fill-color);\n",
              "    box-shadow: none;\n",
              "  }\n",
              "\n",
              "  .colab-df-spinner {\n",
              "    border: 2px solid var(--fill-color);\n",
              "    border-color: transparent;\n",
              "    border-bottom-color: var(--fill-color);\n",
              "    animation:\n",
              "      spin 1s steps(1) infinite;\n",
              "  }\n",
              "\n",
              "  @keyframes spin {\n",
              "    0% {\n",
              "      border-color: transparent;\n",
              "      border-bottom-color: var(--fill-color);\n",
              "      border-left-color: var(--fill-color);\n",
              "    }\n",
              "    20% {\n",
              "      border-color: transparent;\n",
              "      border-left-color: var(--fill-color);\n",
              "      border-top-color: var(--fill-color);\n",
              "    }\n",
              "    30% {\n",
              "      border-color: transparent;\n",
              "      border-left-color: var(--fill-color);\n",
              "      border-top-color: var(--fill-color);\n",
              "      border-right-color: var(--fill-color);\n",
              "    }\n",
              "    40% {\n",
              "      border-color: transparent;\n",
              "      border-right-color: var(--fill-color);\n",
              "      border-top-color: var(--fill-color);\n",
              "    }\n",
              "    60% {\n",
              "      border-color: transparent;\n",
              "      border-right-color: var(--fill-color);\n",
              "    }\n",
              "    80% {\n",
              "      border-color: transparent;\n",
              "      border-right-color: var(--fill-color);\n",
              "      border-bottom-color: var(--fill-color);\n",
              "    }\n",
              "    90% {\n",
              "      border-color: transparent;\n",
              "      border-bottom-color: var(--fill-color);\n",
              "    }\n",
              "  }\n",
              "</style>\n",
              "\n",
              "      <script>\n",
              "        async function quickchart(key) {\n",
              "          const quickchartButtonEl =\n",
              "            document.querySelector('#' + key + ' button');\n",
              "          quickchartButtonEl.disabled = true;  // To prevent multiple clicks.\n",
              "          quickchartButtonEl.classList.add('colab-df-spinner');\n",
              "          try {\n",
              "            const charts = await google.colab.kernel.invokeFunction(\n",
              "                'suggestCharts', [key], {});\n",
              "          } catch (error) {\n",
              "            console.error('Error during call to suggestCharts:', error);\n",
              "          }\n",
              "          quickchartButtonEl.classList.remove('colab-df-spinner');\n",
              "          quickchartButtonEl.classList.add('colab-df-quickchart-complete');\n",
              "        }\n",
              "        (() => {\n",
              "          let quickchartButtonEl =\n",
              "            document.querySelector('#df-68acd0ff-1915-49b1-9e8e-3613fc26cef1 button');\n",
              "          quickchartButtonEl.style.display =\n",
              "            google.colab.kernel.accessAllowed ? 'block' : 'none';\n",
              "        })();\n",
              "      </script>\n",
              "    </div>\n",
              "\n",
              "  <div id=\"id_f1e46323-24fc-4865-ba0e-8bac750548dc\">\n",
              "    <style>\n",
              "      .colab-df-generate {\n",
              "        background-color: #E8F0FE;\n",
              "        border: none;\n",
              "        border-radius: 50%;\n",
              "        cursor: pointer;\n",
              "        display: none;\n",
              "        fill: #1967D2;\n",
              "        height: 32px;\n",
              "        padding: 0 0 0 0;\n",
              "        width: 32px;\n",
              "      }\n",
              "\n",
              "      .colab-df-generate:hover {\n",
              "        background-color: #E2EBFA;\n",
              "        box-shadow: 0px 1px 2px rgba(60, 64, 67, 0.3), 0px 1px 3px 1px rgba(60, 64, 67, 0.15);\n",
              "        fill: #174EA6;\n",
              "      }\n",
              "\n",
              "      [theme=dark] .colab-df-generate {\n",
              "        background-color: #3B4455;\n",
              "        fill: #D2E3FC;\n",
              "      }\n",
              "\n",
              "      [theme=dark] .colab-df-generate:hover {\n",
              "        background-color: #434B5C;\n",
              "        box-shadow: 0px 1px 3px 1px rgba(0, 0, 0, 0.15);\n",
              "        filter: drop-shadow(0px 1px 2px rgba(0, 0, 0, 0.3));\n",
              "        fill: #FFFFFF;\n",
              "      }\n",
              "    </style>\n",
              "    <button class=\"colab-df-generate\" onclick=\"generateWithVariable('column_changes_df')\"\n",
              "            title=\"Generate code using this dataframe.\"\n",
              "            style=\"display:none;\">\n",
              "\n",
              "  <svg xmlns=\"http://www.w3.org/2000/svg\" height=\"24px\"viewBox=\"0 0 24 24\"\n",
              "       width=\"24px\">\n",
              "    <path d=\"M7,19H8.4L18.45,9,17,7.55,7,17.6ZM5,21V16.75L18.45,3.32a2,2,0,0,1,2.83,0l1.4,1.43a1.91,1.91,0,0,1,.58,1.4,1.91,1.91,0,0,1-.58,1.4L9.25,21ZM18.45,9,17,7.55Zm-12,3A5.31,5.31,0,0,0,4.9,8.1,5.31,5.31,0,0,0,1,6.5,5.31,5.31,0,0,0,4.9,4.9,5.31,5.31,0,0,0,6.5,1,5.31,5.31,0,0,0,8.1,4.9,5.31,5.31,0,0,0,12,6.5,5.46,5.46,0,0,0,6.5,12Z\"/>\n",
              "  </svg>\n",
              "    </button>\n",
              "    <script>\n",
              "      (() => {\n",
              "      const buttonEl =\n",
              "        document.querySelector('#id_f1e46323-24fc-4865-ba0e-8bac750548dc button.colab-df-generate');\n",
              "      buttonEl.style.display =\n",
              "        google.colab.kernel.accessAllowed ? 'block' : 'none';\n",
              "\n",
              "      buttonEl.onclick = () => {\n",
              "        google.colab.notebook.generateWithVariable('column_changes_df');\n",
              "      }\n",
              "      })();\n",
              "    </script>\n",
              "  </div>\n",
              "\n",
              "    </div>\n",
              "  </div>\n"
            ],
            "application/vnd.google.colaboratory.intrinsic+json": {
              "type": "dataframe",
              "variable_name": "column_changes_df",
              "summary": "{\n  \"name\": \"column_changes_df\",\n  \"rows\": 3,\n  \"fields\": [\n    {\n      \"column\": \"product_id\",\n      \"properties\": {\n        \"dtype\": \"number\",\n        \"std\": 2,\n        \"min\": 101,\n        \"max\": 105,\n        \"num_unique_values\": 3,\n        \"samples\": [\n          101,\n          102,\n          105\n        ],\n        \"semantic_type\": \"\",\n        \"description\": \"\"\n      }\n    },\n    {\n      \"column\": \"column_changed\",\n      \"properties\": {\n        \"dtype\": \"string\",\n        \"num_unique_values\": 2,\n        \"samples\": [\n          \"stock\",\n          \"price\"\n        ],\n        \"semantic_type\": \"\",\n        \"description\": \"\"\n      }\n    },\n    {\n      \"column\": \"old_value\",\n      \"properties\": {\n        \"dtype\": \"string\",\n        \"num_unique_values\": 3,\n        \"samples\": [\n          \"25.99\",\n          \"200\"\n        ],\n        \"semantic_type\": \"\",\n        \"description\": \"\"\n      }\n    },\n    {\n      \"column\": \"new_value\",\n      \"properties\": {\n        \"dtype\": \"string\",\n        \"num_unique_values\": 3,\n        \"samples\": [\n          \"23.99\",\n          \"180\"\n        ],\n        \"semantic_type\": \"\",\n        \"description\": \"\"\n      }\n    }\n  ]\n}"
            }
          },
          "metadata": {},
          "execution_count": 13
        }
      ]
    },
    {
      "cell_type": "code",
      "source": [
        "#Loading resulted output into csv file\n",
        "column_changes_df.to_csv('column_level_differences.csv', index=False)"
      ],
      "metadata": {
        "id": "hXsy0pspGBzZ"
      },
      "execution_count": 14,
      "outputs": []
    }
  ]
}